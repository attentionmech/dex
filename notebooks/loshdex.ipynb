{
  "nbformat": 4,
  "nbformat_minor": 0,
  "metadata": {
    "colab": {
      "provenance": [],
      "authorship_tag": "ABX9TyPGzR1zHbLRPFCnlW1hbBKh",
      "include_colab_link": true
    },
    "kernelspec": {
      "name": "python3",
      "display_name": "Python 3"
    },
    "language_info": {
      "name": "python"
    }
  },
  "cells": [
    {
      "cell_type": "markdown",
      "metadata": {
        "id": "view-in-github",
        "colab_type": "text"
      },
      "source": [
        "<a href=\"https://colab.research.google.com/github/attentionmech/dex/blob/main/notebooks/loshdex.ipynb\" target=\"_parent\"><img src=\"https://colab.research.google.com/assets/colab-badge.svg\" alt=\"Open In Colab\"/></a>"
      ]
    },
    {
      "cell_type": "code",
      "execution_count": null,
      "metadata": {
        "id": "EKlOrLd9zmE0",
        "colab": {
          "base_uri": "https://localhost:8080/"
        },
        "outputId": "6c5d2c06-9236-4b97-f4d8-e2aac322fccf"
      },
      "outputs": [
        {
          "output_type": "stream",
          "name": "stdout",
          "text": [
            "Collecting git+https://github.com/attentionmech/dex.git#subdirectory=py\n",
            "  Cloning https://github.com/attentionmech/dex.git to /tmp/pip-req-build-xlsnndhk\n",
            "  Running command git clone --filter=blob:none --quiet https://github.com/attentionmech/dex.git /tmp/pip-req-build-xlsnndhk\n",
            "  Resolved https://github.com/attentionmech/dex.git to commit 578d423e8a7893ccf0e09363881054ab95ee2282\n",
            "  Installing build dependencies ... \u001b[?25l\u001b[?25hdone\n",
            "  Getting requirements to build wheel ... \u001b[?25l\u001b[?25hdone\n",
            "  Preparing metadata (pyproject.toml) ... \u001b[?25l\u001b[?25hdone\n",
            "Requirement already satisfied: torch==2.5.0 in /usr/local/lib/python3.11/dist-packages (from loshdex==0.0.1) (2.5.0)\n",
            "Requirement already satisfied: transformers==4.51.1 in /usr/local/lib/python3.11/dist-packages (from loshdex==0.0.1) (4.51.1)\n",
            "Requirement already satisfied: huggingface_hub in /usr/local/lib/python3.11/dist-packages (from loshdex==0.0.1) (0.30.1)\n",
            "Requirement already satisfied: pandas in /usr/local/lib/python3.11/dist-packages (from loshdex==0.0.1) (2.2.2)\n",
            "Requirement already satisfied: pyarrow in /usr/local/lib/python3.11/dist-packages (from loshdex==0.0.1) (18.1.0)\n",
            "Requirement already satisfied: ipython in /usr/local/lib/python3.11/dist-packages (from loshdex==0.0.1) (7.34.0)\n",
            "Requirement already satisfied: torchvision==0.20 in /usr/local/lib/python3.11/dist-packages (from loshdex==0.0.1) (0.20.0)\n",
            "Requirement already satisfied: filelock in /usr/local/lib/python3.11/dist-packages (from torch==2.5.0->loshdex==0.0.1) (3.18.0)\n",
            "Requirement already satisfied: typing-extensions>=4.8.0 in /usr/local/lib/python3.11/dist-packages (from torch==2.5.0->loshdex==0.0.1) (4.13.1)\n",
            "Requirement already satisfied: networkx in /usr/local/lib/python3.11/dist-packages (from torch==2.5.0->loshdex==0.0.1) (3.4.2)\n",
            "Requirement already satisfied: jinja2 in /usr/local/lib/python3.11/dist-packages (from torch==2.5.0->loshdex==0.0.1) (3.1.6)\n",
            "Requirement already satisfied: fsspec in /usr/local/lib/python3.11/dist-packages (from torch==2.5.0->loshdex==0.0.1) (2025.3.2)\n",
            "Requirement already satisfied: nvidia-cuda-nvrtc-cu12==12.4.127 in /usr/local/lib/python3.11/dist-packages (from torch==2.5.0->loshdex==0.0.1) (12.4.127)\n",
            "Requirement already satisfied: nvidia-cuda-runtime-cu12==12.4.127 in /usr/local/lib/python3.11/dist-packages (from torch==2.5.0->loshdex==0.0.1) (12.4.127)\n",
            "Requirement already satisfied: nvidia-cuda-cupti-cu12==12.4.127 in /usr/local/lib/python3.11/dist-packages (from torch==2.5.0->loshdex==0.0.1) (12.4.127)\n",
            "Requirement already satisfied: nvidia-cudnn-cu12==9.1.0.70 in /usr/local/lib/python3.11/dist-packages (from torch==2.5.0->loshdex==0.0.1) (9.1.0.70)\n",
            "Requirement already satisfied: nvidia-cublas-cu12==12.4.5.8 in /usr/local/lib/python3.11/dist-packages (from torch==2.5.0->loshdex==0.0.1) (12.4.5.8)\n",
            "Requirement already satisfied: nvidia-cufft-cu12==11.2.1.3 in /usr/local/lib/python3.11/dist-packages (from torch==2.5.0->loshdex==0.0.1) (11.2.1.3)\n",
            "Requirement already satisfied: nvidia-curand-cu12==10.3.5.147 in /usr/local/lib/python3.11/dist-packages (from torch==2.5.0->loshdex==0.0.1) (10.3.5.147)\n",
            "Requirement already satisfied: nvidia-cusolver-cu12==11.6.1.9 in /usr/local/lib/python3.11/dist-packages (from torch==2.5.0->loshdex==0.0.1) (11.6.1.9)\n",
            "Requirement already satisfied: nvidia-cusparse-cu12==12.3.1.170 in /usr/local/lib/python3.11/dist-packages (from torch==2.5.0->loshdex==0.0.1) (12.3.1.170)\n",
            "Requirement already satisfied: nvidia-nccl-cu12==2.21.5 in /usr/local/lib/python3.11/dist-packages (from torch==2.5.0->loshdex==0.0.1) (2.21.5)\n",
            "Requirement already satisfied: nvidia-nvtx-cu12==12.4.127 in /usr/local/lib/python3.11/dist-packages (from torch==2.5.0->loshdex==0.0.1) (12.4.127)\n",
            "Requirement already satisfied: nvidia-nvjitlink-cu12==12.4.127 in /usr/local/lib/python3.11/dist-packages (from torch==2.5.0->loshdex==0.0.1) (12.4.127)\n",
            "Requirement already satisfied: triton==3.1.0 in /usr/local/lib/python3.11/dist-packages (from torch==2.5.0->loshdex==0.0.1) (3.1.0)\n",
            "Requirement already satisfied: sympy==1.13.1 in /usr/local/lib/python3.11/dist-packages (from torch==2.5.0->loshdex==0.0.1) (1.13.1)\n",
            "Requirement already satisfied: numpy in /usr/local/lib/python3.11/dist-packages (from torchvision==0.20->loshdex==0.0.1) (2.0.2)\n",
            "Requirement already satisfied: pillow!=8.3.*,>=5.3.0 in /usr/local/lib/python3.11/dist-packages (from torchvision==0.20->loshdex==0.0.1) (11.1.0)\n",
            "Requirement already satisfied: packaging>=20.0 in /usr/local/lib/python3.11/dist-packages (from transformers==4.51.1->loshdex==0.0.1) (24.2)\n",
            "Requirement already satisfied: pyyaml>=5.1 in /usr/local/lib/python3.11/dist-packages (from transformers==4.51.1->loshdex==0.0.1) (6.0.2)\n",
            "Requirement already satisfied: regex!=2019.12.17 in /usr/local/lib/python3.11/dist-packages (from transformers==4.51.1->loshdex==0.0.1) (2024.11.6)\n",
            "Requirement already satisfied: requests in /usr/local/lib/python3.11/dist-packages (from transformers==4.51.1->loshdex==0.0.1) (2.32.3)\n",
            "Requirement already satisfied: tokenizers<0.22,>=0.21 in /usr/local/lib/python3.11/dist-packages (from transformers==4.51.1->loshdex==0.0.1) (0.21.1)\n",
            "Requirement already satisfied: safetensors>=0.4.3 in /usr/local/lib/python3.11/dist-packages (from transformers==4.51.1->loshdex==0.0.1) (0.5.3)\n",
            "Requirement already satisfied: tqdm>=4.27 in /usr/local/lib/python3.11/dist-packages (from transformers==4.51.1->loshdex==0.0.1) (4.67.1)\n",
            "Requirement already satisfied: mpmath<1.4,>=1.1.0 in /usr/local/lib/python3.11/dist-packages (from sympy==1.13.1->torch==2.5.0->loshdex==0.0.1) (1.3.0)\n",
            "Requirement already satisfied: setuptools>=18.5 in /usr/local/lib/python3.11/dist-packages (from ipython->loshdex==0.0.1) (75.2.0)\n",
            "Requirement already satisfied: jedi>=0.16 in /usr/local/lib/python3.11/dist-packages (from ipython->loshdex==0.0.1) (0.19.2)\n",
            "Requirement already satisfied: decorator in /usr/local/lib/python3.11/dist-packages (from ipython->loshdex==0.0.1) (4.4.2)\n",
            "Requirement already satisfied: pickleshare in /usr/local/lib/python3.11/dist-packages (from ipython->loshdex==0.0.1) (0.7.5)\n",
            "Requirement already satisfied: traitlets>=4.2 in /usr/local/lib/python3.11/dist-packages (from ipython->loshdex==0.0.1) (5.7.1)\n",
            "Requirement already satisfied: prompt-toolkit!=3.0.0,!=3.0.1,<3.1.0,>=2.0.0 in /usr/local/lib/python3.11/dist-packages (from ipython->loshdex==0.0.1) (3.0.50)\n",
            "Requirement already satisfied: pygments in /usr/local/lib/python3.11/dist-packages (from ipython->loshdex==0.0.1) (2.18.0)\n",
            "Requirement already satisfied: backcall in /usr/local/lib/python3.11/dist-packages (from ipython->loshdex==0.0.1) (0.2.0)\n",
            "Requirement already satisfied: matplotlib-inline in /usr/local/lib/python3.11/dist-packages (from ipython->loshdex==0.0.1) (0.1.7)\n",
            "Requirement already satisfied: pexpect>4.3 in /usr/local/lib/python3.11/dist-packages (from ipython->loshdex==0.0.1) (4.9.0)\n",
            "Requirement already satisfied: python-dateutil>=2.8.2 in /usr/local/lib/python3.11/dist-packages (from pandas->loshdex==0.0.1) (2.8.2)\n",
            "Requirement already satisfied: pytz>=2020.1 in /usr/local/lib/python3.11/dist-packages (from pandas->loshdex==0.0.1) (2025.2)\n",
            "Requirement already satisfied: tzdata>=2022.7 in /usr/local/lib/python3.11/dist-packages (from pandas->loshdex==0.0.1) (2025.2)\n",
            "Requirement already satisfied: parso<0.9.0,>=0.8.4 in /usr/local/lib/python3.11/dist-packages (from jedi>=0.16->ipython->loshdex==0.0.1) (0.8.4)\n",
            "Requirement already satisfied: ptyprocess>=0.5 in /usr/local/lib/python3.11/dist-packages (from pexpect>4.3->ipython->loshdex==0.0.1) (0.7.0)\n",
            "Requirement already satisfied: wcwidth in /usr/local/lib/python3.11/dist-packages (from prompt-toolkit!=3.0.0,!=3.0.1,<3.1.0,>=2.0.0->ipython->loshdex==0.0.1) (0.2.13)\n",
            "Requirement already satisfied: six>=1.5 in /usr/local/lib/python3.11/dist-packages (from python-dateutil>=2.8.2->pandas->loshdex==0.0.1) (1.17.0)\n",
            "Requirement already satisfied: MarkupSafe>=2.0 in /usr/local/lib/python3.11/dist-packages (from jinja2->torch==2.5.0->loshdex==0.0.1) (3.0.2)\n",
            "Requirement already satisfied: charset-normalizer<4,>=2 in /usr/local/lib/python3.11/dist-packages (from requests->transformers==4.51.1->loshdex==0.0.1) (3.4.1)\n",
            "Requirement already satisfied: idna<4,>=2.5 in /usr/local/lib/python3.11/dist-packages (from requests->transformers==4.51.1->loshdex==0.0.1) (3.10)\n",
            "Requirement already satisfied: urllib3<3,>=1.21.1 in /usr/local/lib/python3.11/dist-packages (from requests->transformers==4.51.1->loshdex==0.0.1) (2.3.0)\n",
            "Requirement already satisfied: certifi>=2017.4.17 in /usr/local/lib/python3.11/dist-packages (from requests->transformers==4.51.1->loshdex==0.0.1) (2025.1.31)\n"
          ]
        }
      ],
      "source": [
        "!pip install git+https://github.com/attentionmech/dex.git#subdirectory=py"
      ]
    },
    {
      "cell_type": "code",
      "source": [
        "# from huggingface_hub import notebook_login\n",
        "# notebook_login()"
      ],
      "metadata": {
        "id": "qZeKgkq_9oP7"
      },
      "execution_count": null,
      "outputs": []
    },
    {
      "cell_type": "code",
      "source": [
        "from loshdex import core\n",
        "core.notebook_dex(\"gpt2\",width=600)"
      ],
      "metadata": {
        "id": "sWh7G-vSznDn",
        "colab": {
          "base_uri": "https://localhost:8080/",
          "height": 638
        },
        "outputId": "e7e892f5-e4f8-4123-b8cd-5e77cb17bfb0"
      },
      "execution_count": null,
      "outputs": [
        {
          "output_type": "stream",
          "name": "stdout",
          "text": [
            "Processing model: gpt2\n"
          ]
        },
        {
          "output_type": "execute_result",
          "data": {
            "text/plain": [
              "<IPython.lib.display.IFrame at 0x7d7c93ad3cd0>"
            ],
            "text/html": [
              "\n",
              "        <iframe\n",
              "            width=\"600\"\n",
              "            height=\"600\"\n",
              "            src=\"https://getlosh.xyz/dex?arrow=eJzl3V9v40QUhvGvsup1SXxmxjNjboE7xBdAKPK2bhtwnChOd1UQ3x2nf6hbbTPPVFyUM1csqZtuH73l6KcF8etfZ-vLs-8_Veefzjbby65fDe2mm144u94dzNn06q7dt5t_X_166BZfu_X1zeHxY91wWE2feNs_ffj4et996frp72X69XC7uf-1jXUTbPDTS-NNu7t_vK5MHc6Dj8dPuujbcfz3Cx22-4ubxTAsHt58XIzTFxu7xU-bz93l5Xq4Pn7K1brvVrv2cHP8jOXtuF_224u2X_brz8vd3eFmO9iFyPJyPR6-27UXf7TX3bi8f-flMCwf33n5-M67u-dv93D38Bt8_lbX42r6be-7Y6yrth-7v88_PbYT2m53ut3uzXYhemfNvJxUxv3vwxkY7mZRLfphJafqPT0zT2jnCX2c92Pphu1-0_brP9vDejssfm7vuv0v00v_XcGXX-DdIW1uyM_rdiwq49M3fCKiy4jYHg7D4mJ1_5fEKGePzqO6WVQJvnHBvAp7bmzlvlF33w7j1fQNd_tx-lbvW6xuD-t-XPywHb7Ij-_POnvn5ct3fvcy63dGPTlQkPTYbt7zg7cE8_T5JXf77e9wnsdH32pZxyYa93qd3_7R_yhB0TjDO5OScZ4Kiv4h-lFKgmnGvPNjwB032g4QGmSTGzJ1x9VlBGsUapljo02_m35Yry5Sk3x67u17Uzem8a-antsqmA_8s814Q33zoufJZaZqHrPNU37wjGSUOdZ5yEOu9_OTGcO8r_uxjw4bZg57Zk3BNEu63sLhI4DhotKPbJBcO5J0uM6OZI9cOsIhLoVDXDh2hEocNdUnceHeEU5xKZriwukj1OKoqLZrbrh-BGBcVCqS_ekEd48kNa6zI9kjh49AjUvJGjccPYI0nq6pT-MmhzxU41K2xk0OfpjGSVF195vrxwCNG5WKZIPk4jFJjevsSPbIsWO4xk3hGjecO4ZqHDXVp3HLwWO4xk3RGrecPoZqHBXVds0t148BGjcqFckmyd1jkhrX2ZHskcPHQI2bkjVuOXoM0ni6pj6N2xzyUI2bsjVuc_DDNE6KqrvfXD8WaNyqVCQbJBePTWpcZ0fy76hz7FiucVu4xh3njqUaR031adxx8FiucVu0xh2nj6UaR0W1XXPH9WOBxq1KRbJJcvfYpMZ1diR75PCxUOO2ZI07jh6LNJ6uqU_jLoc8VOO2bI27HPwwjZOi2u53zfXjgMadSkWy_yyXi8clNa6zI9kjx47jGneFa7zm3HFU46ipPo3XHDyOa9wVrfGa08dRjaOi6q45148DGncqFckmyd3jkhrX2ZHskcPHQY27kjVec_Q4pPF0TX0a9znkoRp3ZWvc5-CHaZwU1Xa_PddPDTReq1QkGyQXT53UuM6OZI8cOzXXeF24xj3nTk01jprq07jn4Km5xuuiNe45fWqqcVRU3TXn-qmBxmuVimST5O6pkxrX2RHsMXD41FDjdckaDxw9NdJ4uqY-jYcc8lCN12VrPOTgh2mcFNV2vwPXjwca9yoVyQbJxeOTGtfZkeyRY8dzjfvCNR44dzzVOGqqT-OBg8dzjfuiNR44fTzVOCqq7ZpHrh8PNO5VKhJNMnL3-KTGdXYke-Tw8VDjvmSNR44ejzSerqlP4zGHPFTjvmyNxxz8MI2TouruN9dPABoPKhXJBsnFE5Ia19mR7JFjJ3CNh8I1Hjl3AtU4aqpP4w0HT-AaD0VrvOH0CVTjqKi2a95w_QSg8aBSkWyS3D0hqXGdHckeOXwC1HgoWeMNR09AGk_X1KfxJoc8VOOhbI03OfhhGidF1d1vrp8INB5VKpINkosnJjWusyP6P5Ry7UTO8Vg4x6Xi4InU4yiqPo9Lxc0TOchj0SCXivMnUpGjpNouulScQBGQPKqkJBwl109MmlxnSLRI7p8IUR5LRrlUHD8RqTydU5_KpcqxD2V5LJvlUuUwiLmcJFV3xYU7qAEwb1SCkk1SuH2apMx1hkSL5OxpuMyb0mUuHD4NlTmKqlDmwunTcJk3ZctcOIIaKnOUVN9N5w5qgMwblaCEo-QCapIy1xkSLZITqIEyb4qWuXD-NEjm6ZwKZW5y8ENl3hQuc5PDICZzklTdFTfcQVIBmj8-pO38wFFy_TzFPLFHpSnRKjl9pkqY5y-fLdHnhvPnVdjTQy1T6IYT6LlR-ra_fLY8oxvOoVdZ0UjLuu_cRA_3JsH0x4e0HSU4TO6hp5jJ-64uJVml5SSaKjGqzx4s0eqWg2ie9PQ-C9S6zQIR5fqLR0v0us2iEQM7iqruotsMGwkRu6hkJpxlhockLXadKdEqMygkGWKX0sVuMzAkWOwoq0Kx2wwOSYbYpWyx2wwYCRY7iqruvrsMGwkRu6hkJhumy1CRpMWuMyVaZQaLhIpdiha7yyCRMLGngyoUu8sCERa7FC52l0UjKHYSVd9FpzaajsvVqVUePz6vJgqODxwjVdB9wjcXqDHg2wv87R_iCKFz&config=eJx9VcGO2zgM_ZXC5-3ADppp0dsWKHYPU2APeysKQpZoRzuypJXkmXiD_PuSsh0rmbSXyYikxEfyPfr7qXpxUrQQ9X9YfX63r3f7j7-9qyx4F3XSzkayNvXuQzbi0Co6f3z8lI9GTBjYv8vHAwq1nbS12WlHY8ggZNIvgl-EbrSS_yFn1aMZweJrRSEBo1bgVXCeXPVDQzbOeGMSKdkbUwYC1oUB0Edt8tsNvq_35NSWChGGCgwQhO0xX6sZZRyHQYQJ0uTZWkkTCbfCY1U4x4jgg_uHAlIYsfBsNW11rr5Oh5iAUboxXYCuXn4PkqMOtmhi8bIUBiFX-Iq6P6TCxzikkAe8G95OhPwFAwXN3dDqSIGdMBFzb11QZBVWweilIGx8rYhoXSREz0iTUwsTHnkA980B0xgsKC3TBocq9WOCg1aK4mMSCWORYXFTXrQrtVZfckEeogzap1srqGU8S4e5D21nnEjNYxnbgcFeyAmMi-XTPowWVWYnm09nDtYIr9QRZjQqpW1fNFoeRvucFQEd0s3OhVcRuPqa6RQBrXTcTIX5t8hFzrdGGQjQVvalP7PkVn0oBTeBZXGE9-dZB3Gk2m2fDmTcMchB283CBuUgisEbLK6hCGaiMTnvqQGFw44DtCiGrP3iDH1wo1-tSjPddCI2oxUmTbOuGC0OHoMghnC6ZrY5D8-ZQMvBb67JayJyYQnoMeX1U7w9u-aq3pitA74kEtg-ENKluexa-_aLkFaoTAdSf-bIMhOueyF6xH9HegjX4hcuR-nCFccLXZAeoUfLjSi7TmySRKobuS0ZFyfedQYc3AuyzGmbKaC_41VuPHpnmTrUSyKJmOBNsy5LynvCvSQpKm6xJ9Q_dQuSo04oebJs_l798dffu6dvf5K2vlGTTfWDi9CWumCJU5BEfN6ua7XLC49VWNW8cJ9-__L1CWpet812bqpzXuoUussNOF0C53mtYTSLrGaGmfe7NCIWeKmKTh-LM835bV8j-jvWRWa8xkK64-fSIHqUutMSvAizXk7E_mN6vwx-VvHpSn7LlrkS7b4-nzNe1xoc4HrhgRUDgguUJAdXvU87btm8-TW_O9Dc56-rGJOLeLVF6asXiVkDyRWyZudv74eHffPQ8EMDz-7yFVyftyDTcfv8z0GM5RJ0_vE_2KbK_w%3D%3D\"\n",
              "            frameborder=\"0\"\n",
              "            allowfullscreen\n",
              "            \n",
              "        ></iframe>\n",
              "        "
            ]
          },
          "metadata": {},
          "execution_count": 10
        }
      ]
    }
  ]
}